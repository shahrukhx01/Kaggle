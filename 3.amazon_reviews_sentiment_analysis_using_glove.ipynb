{
 "cells": [
  {
   "cell_type": "code",
   "execution_count": 1,
   "metadata": {
    "colab": {
     "base_uri": "https://localhost:8080/",
     "height": 34
    },
    "colab_type": "code",
    "id": "XFg1uZIxxpQQ",
    "outputId": "9062e094-147f-403c-99a1-83e90f85b15d"
   },
   "outputs": [
    {
     "name": "stdout",
     "output_type": "stream",
     "text": [
      "Drive already mounted at /content/gdrive; to attempt to forcibly remount, call drive.mount(\"/content/gdrive\", force_remount=True).\n"
     ]
    }
   ],
   "source": [
    "import os\n",
    "from google.colab import drive\n",
    "drive.mount('/content/gdrive')"
   ]
  },
  {
   "cell_type": "code",
   "execution_count": 2,
   "metadata": {
    "colab": {
     "base_uri": "https://localhost:8080/",
     "height": 85
    },
    "colab_type": "code",
    "id": "Qke-WLrxwYsm",
    "outputId": "023d0614-c062-426f-d386-b9e8845e9e6c"
   },
   "outputs": [
    {
     "name": "stdout",
     "output_type": "stream",
     "text": [
      "[nltk_data] Downloading package stopwords to /root/nltk_data...\n",
      "[nltk_data]   Package stopwords is already up-to-date!\n",
      "[nltk_data] Downloading package punkt to /root/nltk_data...\n",
      "[nltk_data]   Package punkt is already up-to-date!\n"
     ]
    }
   ],
   "source": [
    "from numba import jit, cuda \n",
    "import pandas as pd\n",
    "import tqdm\n",
    "import numpy as np\n",
    "import nltk\n",
    "import xgboost as xgb\n",
    "from sklearn.metrics import roc_auc_score\n",
    "from nltk import word_tokenize\n",
    "from nltk.corpus import stopwords\n",
    "import pickle\n",
    "import os.path\n",
    "nltk.download('stopwords')\n",
    "nltk.download('punkt')\n",
    "stop_words = stopwords.words('english')"
   ]
  },
  {
   "cell_type": "code",
   "execution_count": 3,
   "metadata": {
    "colab": {
     "base_uri": "https://localhost:8080/",
     "height": 359
    },
    "colab_type": "code",
    "id": "c_WmErfg0Aq_",
    "outputId": "5fad5dca-f2da-4a3d-b057-5fcf9f0c7f00"
   },
   "outputs": [
    {
     "data": {
      "text/html": [
       "<div>\n",
       "<style scoped>\n",
       "    .dataframe tbody tr th:only-of-type {\n",
       "        vertical-align: middle;\n",
       "    }\n",
       "\n",
       "    .dataframe tbody tr th {\n",
       "        vertical-align: top;\n",
       "    }\n",
       "\n",
       "    .dataframe thead th {\n",
       "        text-align: right;\n",
       "    }\n",
       "</style>\n",
       "<table border=\"1\" class=\"dataframe\">\n",
       "  <thead>\n",
       "    <tr style=\"text-align: right;\">\n",
       "      <th></th>\n",
       "      <th>rating</th>\n",
       "      <th>headline</th>\n",
       "      <th>review</th>\n",
       "      <th>merged_text</th>\n",
       "    </tr>\n",
       "  </thead>\n",
       "  <tbody>\n",
       "    <tr>\n",
       "      <th>0</th>\n",
       "      <td>2</td>\n",
       "      <td>The best soundtrack ever to anything.</td>\n",
       "      <td>I'm reading a lot of reviews saying that this ...</td>\n",
       "      <td>The best soundtrack ever to anything. I'm read...</td>\n",
       "    </tr>\n",
       "    <tr>\n",
       "      <th>1</th>\n",
       "      <td>2</td>\n",
       "      <td>Amazing!</td>\n",
       "      <td>This soundtrack is my favorite music of all ti...</td>\n",
       "      <td>Amazing! This soundtrack is my favorite music ...</td>\n",
       "    </tr>\n",
       "    <tr>\n",
       "      <th>2</th>\n",
       "      <td>2</td>\n",
       "      <td>Excellent Soundtrack</td>\n",
       "      <td>I truly like this soundtrack and I enjoy video...</td>\n",
       "      <td>Excellent Soundtrack I truly like this soundtr...</td>\n",
       "    </tr>\n",
       "    <tr>\n",
       "      <th>3</th>\n",
       "      <td>2</td>\n",
       "      <td>Remember, Pull Your Jaw Off The Floor After He...</td>\n",
       "      <td>If you've played the game, you know how divine...</td>\n",
       "      <td>Remember, Pull Your Jaw Off The Floor After He...</td>\n",
       "    </tr>\n",
       "    <tr>\n",
       "      <th>4</th>\n",
       "      <td>2</td>\n",
       "      <td>an absolute masterpiece</td>\n",
       "      <td>I am quite sure any of you actually taking the...</td>\n",
       "      <td>an absolute masterpiece I am quite sure any of...</td>\n",
       "    </tr>\n",
       "    <tr>\n",
       "      <th>5</th>\n",
       "      <td>1</td>\n",
       "      <td>Buyer beware</td>\n",
       "      <td>This is a self-published book, and if you want...</td>\n",
       "      <td>Buyer beware This is a self-published book, an...</td>\n",
       "    </tr>\n",
       "    <tr>\n",
       "      <th>6</th>\n",
       "      <td>2</td>\n",
       "      <td>Glorious story</td>\n",
       "      <td>I loved Whisper of the wicked saints. The stor...</td>\n",
       "      <td>Glorious story I loved Whisper of the wicked s...</td>\n",
       "    </tr>\n",
       "    <tr>\n",
       "      <th>7</th>\n",
       "      <td>2</td>\n",
       "      <td>A FIVE STAR BOOK</td>\n",
       "      <td>I just finished reading Whisper of the Wicked ...</td>\n",
       "      <td>A FIVE STAR BOOK I just finished reading Whisp...</td>\n",
       "    </tr>\n",
       "    <tr>\n",
       "      <th>8</th>\n",
       "      <td>2</td>\n",
       "      <td>Whispers of the Wicked Saints</td>\n",
       "      <td>This was a easy to read book that made me want...</td>\n",
       "      <td>Whispers of the Wicked Saints This was a easy ...</td>\n",
       "    </tr>\n",
       "    <tr>\n",
       "      <th>9</th>\n",
       "      <td>1</td>\n",
       "      <td>The Worst!</td>\n",
       "      <td>A complete waste of time. Typographical errors...</td>\n",
       "      <td>The Worst! A complete waste of time. Typograph...</td>\n",
       "    </tr>\n",
       "  </tbody>\n",
       "</table>\n",
       "</div>"
      ],
      "text/plain": [
       "   rating  ...                                        merged_text\n",
       "0       2  ...  The best soundtrack ever to anything. I'm read...\n",
       "1       2  ...  Amazing! This soundtrack is my favorite music ...\n",
       "2       2  ...  Excellent Soundtrack I truly like this soundtr...\n",
       "3       2  ...  Remember, Pull Your Jaw Off The Floor After He...\n",
       "4       2  ...  an absolute masterpiece I am quite sure any of...\n",
       "5       1  ...  Buyer beware This is a self-published book, an...\n",
       "6       2  ...  Glorious story I loved Whisper of the wicked s...\n",
       "7       2  ...  A FIVE STAR BOOK I just finished reading Whisp...\n",
       "8       2  ...  Whispers of the Wicked Saints This was a easy ...\n",
       "9       1  ...  The Worst! A complete waste of time. Typograph...\n",
       "\n",
       "[10 rows x 4 columns]"
      ]
     },
     "execution_count": 3,
     "metadata": {
      "tags": []
     },
     "output_type": "execute_result"
    }
   ],
   "source": [
    "train_df = pd.read_csv('../content/gdrive/My Drive/Colab Notebooks/datasets/amazon_dataset/amazon_review_polarity_csv/train.csv')\n",
    "train_df.columns = ['rating','headline','review']\n",
    "train_df['merged_text'] = train_df.headline +' ' + train_df.review\n",
    "train_df.head(10)"
   ]
  },
  {
   "cell_type": "code",
   "execution_count": 4,
   "metadata": {
    "colab": {
     "base_uri": "https://localhost:8080/",
     "height": 359
    },
    "colab_type": "code",
    "id": "pPswUGEMBqof",
    "outputId": "683fe0d3-34d6-4c32-d0a2-aa5d385bf8d1"
   },
   "outputs": [
    {
     "data": {
      "text/html": [
       "<div>\n",
       "<style scoped>\n",
       "    .dataframe tbody tr th:only-of-type {\n",
       "        vertical-align: middle;\n",
       "    }\n",
       "\n",
       "    .dataframe tbody tr th {\n",
       "        vertical-align: top;\n",
       "    }\n",
       "\n",
       "    .dataframe thead th {\n",
       "        text-align: right;\n",
       "    }\n",
       "</style>\n",
       "<table border=\"1\" class=\"dataframe\">\n",
       "  <thead>\n",
       "    <tr style=\"text-align: right;\">\n",
       "      <th></th>\n",
       "      <th>rating</th>\n",
       "      <th>headline</th>\n",
       "      <th>review</th>\n",
       "      <th>merged_text</th>\n",
       "    </tr>\n",
       "  </thead>\n",
       "  <tbody>\n",
       "    <tr>\n",
       "      <th>0</th>\n",
       "      <td>2</td>\n",
       "      <td>One of the best game music soundtracks - for a...</td>\n",
       "      <td>Despite the fact that I have only played a sma...</td>\n",
       "      <td>One of the best game music soundtracks - for a...</td>\n",
       "    </tr>\n",
       "    <tr>\n",
       "      <th>1</th>\n",
       "      <td>1</td>\n",
       "      <td>Batteries died within a year ...</td>\n",
       "      <td>I bought this charger in Jul 2003 and it worke...</td>\n",
       "      <td>Batteries died within a year ... I bought this...</td>\n",
       "    </tr>\n",
       "    <tr>\n",
       "      <th>2</th>\n",
       "      <td>2</td>\n",
       "      <td>works fine, but Maha Energy is better</td>\n",
       "      <td>Check out Maha Energy's website. Their Powerex...</td>\n",
       "      <td>works fine, but Maha Energy is better Check ou...</td>\n",
       "    </tr>\n",
       "    <tr>\n",
       "      <th>3</th>\n",
       "      <td>2</td>\n",
       "      <td>Great for the non-audiophile</td>\n",
       "      <td>Reviewed quite a bit of the combo players and ...</td>\n",
       "      <td>Great for the non-audiophile Reviewed quite a ...</td>\n",
       "    </tr>\n",
       "    <tr>\n",
       "      <th>4</th>\n",
       "      <td>1</td>\n",
       "      <td>DVD Player crapped out after one year</td>\n",
       "      <td>I also began having the incorrect disc problem...</td>\n",
       "      <td>DVD Player crapped out after one year I also b...</td>\n",
       "    </tr>\n",
       "    <tr>\n",
       "      <th>5</th>\n",
       "      <td>1</td>\n",
       "      <td>Incorrect Disc</td>\n",
       "      <td>I love the style of this, but after a couple y...</td>\n",
       "      <td>Incorrect Disc I love the style of this, but a...</td>\n",
       "    </tr>\n",
       "    <tr>\n",
       "      <th>6</th>\n",
       "      <td>1</td>\n",
       "      <td>DVD menu select problems</td>\n",
       "      <td>I cannot scroll through a DVD menu that is set...</td>\n",
       "      <td>DVD menu select problems I cannot scroll throu...</td>\n",
       "    </tr>\n",
       "    <tr>\n",
       "      <th>7</th>\n",
       "      <td>2</td>\n",
       "      <td>Unique Weird Orientalia from the 1930's</td>\n",
       "      <td>Exotic tales of the Orient from the 1930's. \"D...</td>\n",
       "      <td>Unique Weird Orientalia from the 1930's Exotic...</td>\n",
       "    </tr>\n",
       "    <tr>\n",
       "      <th>8</th>\n",
       "      <td>1</td>\n",
       "      <td>Not an \"ultimate guide\"</td>\n",
       "      <td>Firstly,I enjoyed the format and tone of the b...</td>\n",
       "      <td>Not an \"ultimate guide\" Firstly,I enjoyed the ...</td>\n",
       "    </tr>\n",
       "    <tr>\n",
       "      <th>9</th>\n",
       "      <td>2</td>\n",
       "      <td>Great book for travelling Europe</td>\n",
       "      <td>I currently live in Europe, and this is the bo...</td>\n",
       "      <td>Great book for travelling Europe I currently l...</td>\n",
       "    </tr>\n",
       "  </tbody>\n",
       "</table>\n",
       "</div>"
      ],
      "text/plain": [
       "   rating  ...                                        merged_text\n",
       "0       2  ...  One of the best game music soundtracks - for a...\n",
       "1       1  ...  Batteries died within a year ... I bought this...\n",
       "2       2  ...  works fine, but Maha Energy is better Check ou...\n",
       "3       2  ...  Great for the non-audiophile Reviewed quite a ...\n",
       "4       1  ...  DVD Player crapped out after one year I also b...\n",
       "5       1  ...  Incorrect Disc I love the style of this, but a...\n",
       "6       1  ...  DVD menu select problems I cannot scroll throu...\n",
       "7       2  ...  Unique Weird Orientalia from the 1930's Exotic...\n",
       "8       1  ...  Not an \"ultimate guide\" Firstly,I enjoyed the ...\n",
       "9       2  ...  Great book for travelling Europe I currently l...\n",
       "\n",
       "[10 rows x 4 columns]"
      ]
     },
     "execution_count": 4,
     "metadata": {
      "tags": []
     },
     "output_type": "execute_result"
    }
   ],
   "source": [
    "test_df = pd.read_csv('../content/gdrive/My Drive/Colab Notebooks/datasets/amazon_dataset/amazon_review_polarity_csv/test.csv')\n",
    "test_df.columns = ['rating','headline','review']\n",
    "test_df['merged_text'] = test_df.headline +' ' + test_df.review\n",
    "test_df.head(10)"
   ]
  },
  {
   "cell_type": "code",
   "execution_count": 5,
   "metadata": {
    "colab": {
     "base_uri": "https://localhost:8080/",
     "height": 34
    },
    "colab_type": "code",
    "id": "cXpuEibY2H8R",
    "outputId": "29b8ad8f-189b-4ec3-dfce-540ad4611e08"
   },
   "outputs": [
    {
     "data": {
      "text/plain": [
       "array([2, 1])"
      ]
     },
     "execution_count": 5,
     "metadata": {
      "tags": []
     },
     "output_type": "execute_result"
    }
   ],
   "source": [
    "##listing the unique values\n",
    "train_df.rating.unique()"
   ]
  },
  {
   "cell_type": "code",
   "execution_count": 0,
   "metadata": {
    "colab": {},
    "colab_type": "code",
    "id": "y9Bmhz3XE4PB"
   },
   "outputs": [],
   "source": [
    "X_train = train_df.merged_text\n",
    "y_train = train_df.rating\n",
    "\n",
    "X_test = test_df.merged_text\n",
    "y_test = test_df.rating"
   ]
  },
  {
   "cell_type": "code",
   "execution_count": 0,
   "metadata": {
    "colab": {},
    "colab_type": "code",
    "id": "8SlEG7Q9I5Ss"
   },
   "outputs": [],
   "source": [
    "del train_df\n",
    "del test_df"
   ]
  },
  {
   "cell_type": "markdown",
   "metadata": {
    "colab_type": "text",
    "id": "BcxakLaP7jcB"
   },
   "source": [
    "## 1. Glove pretrained embeddings\n",
    "\n",
    "\n",
    "```\n",
    "# download from here\n",
    "!wget http://downloads.cs.stanford.edu/nlp/data/glove.840B.300d.zip\n",
    "```\n",
    "\n"
   ]
  },
  {
   "cell_type": "code",
   "execution_count": 0,
   "metadata": {
    "colab": {},
    "colab_type": "code",
    "id": "KxOZBFWl7lXW"
   },
   "outputs": [],
   "source": [
    "#!wget http://www-nlp.stanford.edu/data/glove.840B.300d.zip\n",
    "#!unzip glove.840B.300d.zip"
   ]
  },
  {
   "cell_type": "code",
   "execution_count": 0,
   "metadata": {
    "colab": {},
    "colab_type": "code",
    "id": "GOrx_lH-4tqW"
   },
   "outputs": [],
   "source": [
    "###load embeddings\n",
    "embeddings_index = {}"
   ]
  },
  {
   "cell_type": "code",
   "execution_count": 0,
   "metadata": {
    "colab": {},
    "colab_type": "code",
    "id": "U308rDuc9x1n"
   },
   "outputs": [],
   "source": [
    "def load_embeddings():\n",
    "  f = open('glove.840B.300d.txt')\n",
    "  for line in tqdm.tqdm(f):\n",
    "    try:\n",
    "      values = line.split()\n",
    "      word = values[0]\n",
    "      vec = np.asarray(values[1:], dtype='float32')\n",
    "      embeddings_index[word] = vec\n",
    "    except:\n",
    "      continue\n",
    "  f.close()\n",
    "\n",
    "if(os.path.isfile('embedding_index.pickle')):\n",
    "  pickle_in = open(\"embedding_index.pickle\",\"rb\")\n",
    "  embeddings_index = pickle.load(pickle_in)\n",
    "else:\n",
    "  load_embeddings()\n",
    "  pickle_out = open(\"embedding_index.pickle\",\"wb\")\n",
    "  pickle.dump(embeddings_index, pickle_out)\n",
    "  pickle_out.close()"
   ]
  },
  {
   "cell_type": "code",
   "execution_count": 0,
   "metadata": {
    "colab": {},
    "colab_type": "code",
    "id": "_v0hugxX_dj2"
   },
   "outputs": [],
   "source": [
    "def sent2vec(s):\n",
    "    words = str(s).lower()\n",
    "    words = word_tokenize(words)\n",
    "    words = [w for w in words if not w in stop_words]\n",
    "    words = [w for w in words if w.isalpha()]\n",
    "    M = []\n",
    "    for w in words:\n",
    "        try:\n",
    "            M.append(embeddings_index[w])\n",
    "        except:\n",
    "            continue\n",
    "    M = np.array(M)\n",
    "    v = M.sum(axis=0)\n",
    "    if type(v) != np.ndarray:\n",
    "        return np.zeros(300)\n",
    "    return v / np.sqrt((v ** 2).sum())"
   ]
  },
  {
   "cell_type": "code",
   "execution_count": 12,
   "metadata": {
    "colab": {
     "base_uri": "https://localhost:8080/",
     "height": 51
    },
    "colab_type": "code",
    "id": "tRgD5RIMBise",
    "outputId": "5fc4fe27-819c-4e9d-d275-07418915f68e"
   },
   "outputs": [
    {
     "name": "stderr",
     "output_type": "stream",
     "text": [
      "100%|██████████| 932390/932390 [15:43<00:00, 988.52it/s] \n",
      "100%|██████████| 200000/200000 [03:19<00:00, 1004.56it/s]\n"
     ]
    }
   ],
   "source": [
    "# create sentence vectors using the above function for training and test set\n",
    "xtrain_glove = np.array([sent2vec(x) for x in tqdm.tqdm(X_train[:932390])]) \n",
    "xtest_glove = np.array([sent2vec(x) for x in tqdm.tqdm(X_test[:200000])])"
   ]
  },
  {
   "cell_type": "code",
   "execution_count": 0,
   "metadata": {
    "colab": {},
    "colab_type": "code",
    "id": "nfJwBpAwKooR"
   },
   "outputs": [],
   "source": [
    "#free up memory\n",
    "del X_train\n",
    "del embeddings_index\n",
    "del X_test"
   ]
  },
  {
   "cell_type": "code",
   "execution_count": 21,
   "metadata": {
    "colab": {
     "base_uri": "https://localhost:8080/",
     "height": 136
    },
    "colab_type": "code",
    "id": "pII3Md-MHmuI",
    "outputId": "526af9bb-a891-448f-d2bb-2d88eb679fd3"
   },
   "outputs": [
    {
     "data": {
      "text/plain": [
       "XGBClassifier(base_score=0.5, booster='gbtree', colsample_bylevel=1,\n",
       "              colsample_bynode=1, colsample_bytree=0.8, gamma=0,\n",
       "              learning_rate=0.1, max_delta_step=0, max_depth=7,\n",
       "              min_child_weight=1, missing=None, n_estimators=200, n_jobs=1,\n",
       "              nthread=-1, objective='binary:logistic', random_state=0,\n",
       "              reg_alpha=0, reg_lambda=1, scale_pos_weight=1, seed=None,\n",
       "              silent=False, subsample=0.8, verbosity=1)"
      ]
     },
     "execution_count": 21,
     "metadata": {
      "tags": []
     },
     "output_type": "execute_result"
    }
   ],
   "source": [
    "# Fitting a simple xgboost on glove features\n",
    "clf = xgb.XGBClassifier(nthread=-1, max_depth=7, n_estimators=200, colsample_bytree=0.8, \n",
    "                        subsample=0.8, learning_rate=0.1, silent=False)\n",
    "clf.fit(xtrain_glove, y_train[:932390].values)\n"
   ]
  },
  {
   "cell_type": "code",
   "execution_count": 23,
   "metadata": {
    "colab": {
     "base_uri": "https://localhost:8080/",
     "height": 34
    },
    "colab_type": "code",
    "id": "q37sV7Rrm5tf",
    "outputId": "162e4ebe-167b-435e-a910-f1ab4a1987e3"
   },
   "outputs": [
    {
     "name": "stdout",
     "output_type": "stream",
     "text": [
      "roc score: 0.927 \n"
     ]
    }
   ],
   "source": [
    "predictions = clf.predict_proba(xtest_glove)\n",
    "print (\"roc score: %0.3f \" % roc_auc_score(y_test[:200000].values, predictions[:,1]))"
   ]
  }
 ],
 "metadata": {
  "colab": {
   "collapsed_sections": [],
   "machine_shape": "hm",
   "name": "Amazon Reviews Sentiment Analysis using Glove",
   "provenance": []
  },
  "kernelspec": {
   "display_name": "Python 3",
   "language": "python",
   "name": "python3"
  },
  "language_info": {
   "codemirror_mode": {
    "name": "ipython",
    "version": 3
   },
   "file_extension": ".py",
   "mimetype": "text/x-python",
   "name": "python",
   "nbconvert_exporter": "python",
   "pygments_lexer": "ipython3",
   "version": "3.7.4"
  }
 },
 "nbformat": 4,
 "nbformat_minor": 1
}
