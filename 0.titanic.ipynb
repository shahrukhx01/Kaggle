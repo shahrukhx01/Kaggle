{
 "cells": [
  {
   "cell_type": "code",
   "execution_count": 1,
   "metadata": {
    "collapsed": true
   },
   "outputs": [],
   "source": [
    "import pandas as pd\n",
    "import numpy as np\n",
    "import sklearn as sk\n",
    "import sklearn.feature_extraction\n",
    "from sklearn.preprocessing import OneHotEncoder\n",
    "from category_encoders import *\n",
    "from sklearn.model_selection import GridSearchCV\n",
    "from sklearn.ensemble import RandomForestClassifier\n",
    "from sklearn.metrics import classification_report\n",
    "from sklearn import linear_model\n",
    "from sklearn import preprocessing\n",
    "\n",
    "train = pd.read_csv('train.csv')\n",
    "test = pd.read_csv('test.csv')"
   ]
  },
  {
   "cell_type": "code",
   "execution_count": null,
   "metadata": {
    "collapsed": true
   },
   "outputs": [],
   "source": [
    "train.head()"
   ]
  },
  {
   "cell_type": "code",
   "execution_count": null,
   "metadata": {
    "collapsed": true
   },
   "outputs": [],
   "source": [
    "test.head()"
   ]
  },
  {
   "cell_type": "code",
   "execution_count": 2,
   "metadata": {},
   "outputs": [
    {
     "data": {
      "text/plain": [
       "[]"
      ]
     },
     "execution_count": 2,
     "metadata": {},
     "output_type": "execute_result"
    }
   ],
   "source": [
    "train_y = train['Survived'].values\n",
    "train.drop(['Survived'], inplace=True, axis=1)\n",
    "#difference between test and train\n",
    "[column for column in train.columns if column not in test.columns]\n"
   ]
  },
  {
   "cell_type": "markdown",
   "metadata": {},
   "source": [
    "# Feature Engineering"
   ]
  },
  {
   "cell_type": "code",
   "execution_count": 3,
   "metadata": {},
   "outputs": [],
   "source": [
    "#extracting salutation as a feature\n",
    "train['salutation'] = train['Name'].map(lambda x: x.split(' ')[1] )\n",
    "#length of ticket ID\n",
    "train['ticket_len'] = train['Ticket'].map(len)\n",
    "#family size\n",
    "train['fam_size'] = train['SibSp'] + train['Parch'] + 1\n",
    "#treating missing values\n",
    "train.fillna(-999, inplace=True)"
   ]
  },
  {
   "cell_type": "code",
   "execution_count": 4,
   "metadata": {
    "collapsed": true
   },
   "outputs": [],
   "source": [
    "categorical_columns = ['Sex','Cabin','Embarked','salutation']"
   ]
  },
  {
   "cell_type": "code",
   "execution_count": 5,
   "metadata": {},
   "outputs": [],
   "source": [
    "#adding features to test data\n",
    "test['salutation'] = test['Name'].map(lambda x: x.split(' ')[1] )\n",
    "#length of ticket ID for each passenger\n",
    "test['ticket_len'] = test['Ticket'].map(len)\n",
    "#family size\n",
    "test['fam_size'] = test['SibSp'] + test['Parch'] + 1\n",
    "\n",
    "test.fillna(-999, inplace=True)\n",
    "\n",
    "myEncoder = OneHotEncoder( handle_unknown='ignore')\n",
    "myEncoder.fit(train[categorical_columns])\n",
    "\n",
    "train_X = pd.concat([train.drop(categorical_columns+['Name','Ticket'], 1),\n",
    "          pd.DataFrame(myEncoder.transform(train[categorical_columns]))], axis=1).reindex()\n",
    "test_X = pd.concat([test.drop(categorical_columns+['Name','Ticket'], 1),\n",
    "          pd.DataFrame(myEncoder.transform(test[categorical_columns]))], axis=1).reindex()"
   ]
  },
  {
   "cell_type": "markdown",
   "metadata": {},
   "source": [
    "## Preliminary Linear Model"
   ]
  },
  {
   "cell_type": "code",
   "execution_count": null,
   "metadata": {
    "collapsed": true
   },
   "outputs": [],
   "source": [
    "\n",
    "logreg = linear_model.LogisticRegression(C=10000)\n",
    "logreg.fit(train_X, train_y)"
   ]
  },
  {
   "cell_type": "code",
   "execution_count": null,
   "metadata": {
    "collapsed": true
   },
   "outputs": [],
   "source": [
    "y_pred = logreg.predict(train_X)\n",
    "print(classification_report(train_y, y_pred))"
   ]
  },
  {
   "cell_type": "code",
   "execution_count": null,
   "metadata": {
    "collapsed": true
   },
   "outputs": [],
   "source": [
    "y_pred = logreg.predict(test_X)\n",
    "pd.DataFrame({'Survived':y_pred}, index=test['PassengerId']).to_csv('sub.csv')"
   ]
  },
  {
   "cell_type": "markdown",
   "metadata": {},
   "source": [
    "## Random Forest Model"
   ]
  },
  {
   "cell_type": "code",
   "execution_count": 6,
   "metadata": {},
   "outputs": [
    {
     "data": {
      "text/plain": [
       "RandomForestClassifier(bootstrap=True, class_weight=None, criterion='gini',\n",
       "            max_depth=9, max_features='auto', max_leaf_nodes=None,\n",
       "            min_impurity_decrease=0.0, min_impurity_split=None,\n",
       "            min_samples_leaf=1, min_samples_split=2,\n",
       "            min_weight_fraction_leaf=0.0, n_estimators=100, n_jobs=1,\n",
       "            oob_score=False, random_state=0, verbose=0, warm_start=False)"
      ]
     },
     "execution_count": 6,
     "metadata": {},
     "output_type": "execute_result"
    }
   ],
   "source": [
    "#accuracy of .79904 using criterion='gini',max_depth=9,max_features= 'auto',n_estimators= 100\n",
    "rf = RandomForestClassifier(criterion='gini',max_depth=9,max_features= 'auto',n_estimators= 100,  random_state=0)\n",
    "rf.fit(train_X, train_y)"
   ]
  },
  {
   "cell_type": "code",
   "execution_count": 7,
   "metadata": {},
   "outputs": [
    {
     "name": "stdout",
     "output_type": "stream",
     "text": [
      "             precision    recall  f1-score   support\n",
      "\n",
      "          0       0.87      0.93      0.90       549\n",
      "          1       0.88      0.78      0.83       342\n",
      "\n",
      "avg / total       0.87      0.87      0.87       891\n",
      "\n"
     ]
    }
   ],
   "source": [
    "print(classification_report(train_y, rf.predict(train_X)))"
   ]
  },
  {
   "cell_type": "code",
   "execution_count": 8,
   "metadata": {},
   "outputs": [],
   "source": [
    "\n",
    "pd.DataFrame({'Survived':rf.predict(test_X)}, index=test['PassengerId']).to_csv('sub_tree_lab_encoded_10.csv')"
   ]
  }
 ],
 "metadata": {
  "kernelspec": {
   "display_name": "Python 3",
   "language": "python",
   "name": "python3"
  },
  "language_info": {
   "codemirror_mode": {
    "name": "ipython",
    "version": 3
   },
   "file_extension": ".py",
   "mimetype": "text/x-python",
   "name": "python",
   "nbconvert_exporter": "python",
   "pygments_lexer": "ipython3",
   "version": "3.6.3"
  }
 },
 "nbformat": 4,
 "nbformat_minor": 2
}
